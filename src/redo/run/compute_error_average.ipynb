{
 "cells": [
  {
   "cell_type": "code",
   "execution_count": 1,
   "metadata": {},
   "outputs": [],
   "source": [
    "import json"
   ]
  },
  {
   "cell_type": "code",
   "execution_count": 7,
   "metadata": {},
   "outputs": [],
   "source": [
    "methods = ['codestory-mixed', 'Demo', 'lingma', 'droid', 'autocoderover', 'marscode']\n",
    "results = []\n",
    "for method in methods:\n",
    "    with open(f'eval_{method}_results.json', 'r') as f:\n",
    "        eval_results = json.load(f)\n",
    "    tmp = {}\n",
    "    tmp['method'] = method\n",
    "    tmp['syntax'] = len(eval_results['syntax_instances']) + len(eval_results['indentation_instances'])\n",
    "    tmp['attribute'] = len(eval_results['attribute_instances'])\n",
    "    tmp['type'] = len(eval_results['type_instances'])\n",
    "    tmp['name'] = len(eval_results['name_instances'])\n",
    "    results.append(tmp)\n"
   ]
  },
  {
   "cell_type": "code",
   "execution_count": 6,
   "metadata": {},
   "outputs": [],
   "source": [
    "import pandas as pd"
   ]
  },
  {
   "cell_type": "code",
   "execution_count": 9,
   "metadata": {},
   "outputs": [],
   "source": [
    "results = pd.DataFrame.from_records(results)"
   ]
  },
  {
   "cell_type": "code",
   "execution_count": 13,
   "metadata": {},
   "outputs": [
    {
     "data": {
      "text/plain": [
       "syntax        1.833333\n",
       "attribute    11.333333\n",
       "type         25.833333\n",
       "name          5.166667\n",
       "dtype: float64"
      ]
     },
     "execution_count": 13,
     "metadata": {},
     "output_type": "execute_result"
    }
   ],
   "source": [
    "results[['syntax', 'attribute', 'type', 'name']].mean()"
   ]
  },
  {
   "cell_type": "code",
   "execution_count": null,
   "metadata": {},
   "outputs": [],
   "source": []
  }
 ],
 "metadata": {
  "kernelspec": {
   "display_name": "agent",
   "language": "python",
   "name": "python3"
  },
  "language_info": {
   "codemirror_mode": {
    "name": "ipython",
    "version": 3
   },
   "file_extension": ".py",
   "mimetype": "text/x-python",
   "name": "python",
   "nbconvert_exporter": "python",
   "pygments_lexer": "ipython3",
   "version": "3.9.0"
  }
 },
 "nbformat": 4,
 "nbformat_minor": 2
}
