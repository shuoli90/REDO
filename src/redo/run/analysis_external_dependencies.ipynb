{
 "cells": [
  {
   "cell_type": "code",
   "execution_count": 2,
   "metadata": {},
   "outputs": [],
   "source": [
    "import json\n",
    "import numpy as np"
   ]
  },
  {
   "cell_type": "code",
   "execution_count": 7,
   "metadata": {},
   "outputs": [
    {
     "name": "stdout",
     "output_type": "stream",
     "text": [
      "Method: aider\n",
      "Average dependencies: 6.06508875739645\n",
      "Method: auto\n",
      "Average dependencies: 5.982857142857143\n",
      "Method: codestory-mixed\n",
      "Average dependencies: 5.557471264367816\n",
      "Method: Demo\n",
      "Average dependencies: 4.446886446886447\n",
      "Method: droid\n",
      "Average dependencies: 5.610062893081761\n",
      "Method: lingma\n",
      "Average dependencies: 5.748571428571428\n"
     ]
    }
   ],
   "source": [
    "methods = ['aider', 'auto', 'codestory-mixed', 'Demo', 'droid', 'lingma']\n",
    "all\n",
    "for method in methods:\n",
    "    num_counts = []\n",
    "    with open(f'external_dependencies_{method}.jsonl', 'r') as f:\n",
    "        for line in f:\n",
    "            num_counts.extend(eval(line)['num_dependences'])\n",
    "    print('Method:', method)\n",
    "    print('Average dependencies:', np.mean(num_counts))"
   ]
  },
  {
   "cell_type": "code",
   "execution_count": null,
   "metadata": {},
   "outputs": [],
   "source": []
  }
 ],
 "metadata": {
  "kernelspec": {
   "display_name": "agent",
   "language": "python",
   "name": "python3"
  },
  "language_info": {
   "codemirror_mode": {
    "name": "ipython",
    "version": 3
   },
   "file_extension": ".py",
   "mimetype": "text/x-python",
   "name": "python",
   "nbconvert_exporter": "python",
   "pygments_lexer": "ipython3",
   "version": "3.9.0"
  }
 },
 "nbformat": 4,
 "nbformat_minor": 2
}
