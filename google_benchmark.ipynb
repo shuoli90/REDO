{
 "cells": [
  {
   "cell_type": "code",
   "execution_count": 1,
   "metadata": {},
   "outputs": [
    {
     "name": "stderr",
     "output_type": "stream",
     "text": [
      "\u001b[32m2024-08-03 03:36:45.002\u001b[0m | \u001b[34m\u001b[1mDEBUG   \u001b[0m | \u001b[36mbirds_transforms.constants\u001b[0m:\u001b[36mgetenv\u001b[0m:\u001b[36m16\u001b[0m - \u001b[34m\u001b[1mLoading environment variable ANTHROPIC_API_KEY\u001b[0m\n",
      "\u001b[32m2024-08-03 03:36:45.006\u001b[0m | \u001b[34m\u001b[1mDEBUG   \u001b[0m | \u001b[36mbirds_transforms.constants\u001b[0m:\u001b[36mgetenv\u001b[0m:\u001b[36m16\u001b[0m - \u001b[34m\u001b[1mLoading environment variable OPENAI_API_KEY\u001b[0m\n",
      "\u001b[32m2024-08-03 03:36:45.007\u001b[0m | \u001b[34m\u001b[1mDEBUG   \u001b[0m | \u001b[36mbirds_transforms.constants\u001b[0m:\u001b[36mgetenv\u001b[0m:\u001b[36m16\u001b[0m - \u001b[34m\u001b[1mLoading environment variable ENVROOT\u001b[0m\n",
      "\u001b[32m2024-08-03 03:36:45.008\u001b[0m | \u001b[34m\u001b[1mDEBUG   \u001b[0m | \u001b[36mbirds_transforms.constants\u001b[0m:\u001b[36mgetenv\u001b[0m:\u001b[36m21\u001b[0m - \u001b[34m\u001b[1mUsing default value for environment variable TREE_SITTER_LIBRARY_PATH\u001b[0m\n",
      "/home/ubuntu/anaconda3/envs/agent/lib/python3.9/site-packages/tree_sitter/__init__.py:36: FutureWarning: Language(path, name) is deprecated. Use Language(ptr, name) instead.\n",
      "  warn(\"{} is deprecated. Use {} instead.\".format(old, new), FutureWarning)\n",
      "/home/ubuntu/anaconda3/envs/agent/lib/python3.9/site-packages/tqdm/auto.py:21: TqdmWarning: IProgress not found. Please update jupyter and ipywidgets. See https://ipywidgets.readthedocs.io/en/stable/user_install.html\n",
      "  from .autonotebook import tqdm as notebook_tqdm\n",
      "None of PyTorch, TensorFlow >= 2.0, or Flax have been found. Models won't be available and only tokenizers, configuration and file/data utilities can be used.\n"
     ]
    }
   ],
   "source": [
    "import os\n",
    "os.environ[\"ANTHROPIC_API_KEY\"] = YOUR_ANTRHOPIC_API_KEY\n",
    "\n",
    "from typing import DefaultDict\n",
    "from birds_transforms.utils import (\n",
    "    find_intervals, \n",
    "    identify_code_location, \n",
    "    prompt_anthropic,\n",
    "    extract_tag_list,\n",
    ")\n",
    "import shutil\n",
    "import time\n",
    "from pathlib import Path\n",
    "\n",
    "import argparse\n",
    "from tqdm import tqdm\n",
    "import json\n",
    "from core.data import descriptions\n",
    "from core.data import tokenization\n",
    "\n",
    "OPUS = \"claude-3-opus-20240229\"\n",
    "OPUS_BR = \"anthropic.claude-3-opus-20240229-v1:0\"\n",
    "HAIKU = \"anthropic.claude-3-haiku-20240307-v1:0\"\n",
    "SONNET = \"anthropic.claude-3-sonnet-20240229-v1:0\"\n",
    "SONNET_3_5 = \"claude-3-5-sonnet-20240620\""
   ]
  },
  {
   "cell_type": "code",
   "execution_count": 2,
   "metadata": {},
   "outputs": [],
   "source": [
    "with open('../test_records.jsonl', 'r') as f:\n",
    "    test_records = [json.loads(line) for line in f]"
   ]
  },
  {
   "cell_type": "code",
   "execution_count": 3,
   "metadata": {},
   "outputs": [],
   "source": [
    "with open('../test-ids.json', 'r') as f:\n",
    "    test_ids = json.load(f)"
   ]
  },
  {
   "cell_type": "code",
   "execution_count": 6,
   "metadata": {},
   "outputs": [],
   "source": [
    "SYSTEM_TEMPLATE = \"\"\"\n",
    "You are an experienced program analyzer who can identify potential runtime errors without running the programs.\n",
    "\"\"\"\n",
    "\n",
    "TEMPLATE = \"\"\"\n",
    "\n",
    "Given the description on input and a implemented script, please prediction what kinds of runtime errors the implementation would encounter:\n",
    "\n",
    "Here is the input:\n",
    "<Input>\n",
    "{input}\n",
    "</Input>\n",
    "\n",
    "Here is the implementation:\n",
    "<Implementation>\n",
    "{implementation}\n",
    "</Implementation>\n",
    "\n",
    "Please predict the first runtime error that might crash the program. Potential runtime errors are:\\\n",
    "1: 'No Error', \\\n",
    "2: 'Other', \\\n",
    "3: 'Timeout', \\\n",
    "4: 'AssertionError', \\\n",
    "5: 'AttributeError', \\\n",
    "6: 'decimal', \\\n",
    "7: 'EOFError', \\\n",
    "8: 'FileNotFoundError', \\\n",
    "9: 'ImportError', \\\n",
    "10: 'IndentationError', \\\n",
    "11: 'IndexError', \\\n",
    "12: 'KeyError', \\\n",
    "13: 'MathDomainError', \\\n",
    "14: 'MemoryError', \\\n",
    "15: 'ModuleNotFoundError', \\\n",
    "16: 'NameError', \\\n",
    "17: 'OSError', \\\n",
    "18: 'OverflowError', \\\n",
    "19: 're.error', \\\n",
    "20: 'RecursionError', \\\n",
    "21: 'RuntimeError', \\\n",
    "22: 'StopIteration', \\\n",
    "23: 'SyntaxError', \\\n",
    "24: 'TabError', \\\n",
    "25: 'TypeError', \\\n",
    "26: 'UnboundLocalError', \\\n",
    "27: 'ValueError', \\\n",
    "28: 'ZeroDivisionError', \\\n",
    "29: 'numpy.AxisError' \\\n",
    "\n",
    "Please output your predicted error type in the \"Conclusion\" section, being wrapped by <Conclusion></Conclusion>; \\\n",
    "and your reasoning in the \"Reasoning\" section, being wrapped by <Reasoning></Reasoning>. \\\n",
    "\"\"\""
   ]
  },
  {
   "cell_type": "code",
   "execution_count": 5,
   "metadata": {},
   "outputs": [],
   "source": [
    "error_types = {\n",
    "    1: 'No Error',\n",
    "    2: 'Other',\n",
    "    3: 'Timeout',\n",
    "    4: 'AssertionError',\n",
    "    5: 'AttributeError',\n",
    "    6: 'decimal',\n",
    "    7: 'EOFError',\n",
    "    8: 'FileNotFoundError',\n",
    "    9: 'ImportError',\n",
    "    10: 'IndentationError',\n",
    "    11: 'IndexError',\n",
    "    12: 'KeyError',\n",
    "    13: 'MathDomainError',\n",
    "    14: 'MemoryError',\n",
    "    15: 'ModuleNotFoundError',\n",
    "    16: 'NameError',\n",
    "    17: 'OSError',\n",
    "    18: 'OverflowError',\n",
    "    19: 're.error',\n",
    "    20: 'RecursionError',\n",
    "    21: 'RuntimeError',\n",
    "    22: 'StopIteration',\n",
    "    23: 'SyntaxError',\n",
    "    24: 'TabError',\n",
    "    25: 'TypeError',\n",
    "    26: 'UnboundLocalError',\n",
    "    27: 'ValueError',\n",
    "    28: 'ZeroDivisionError',\n",
    "    29: 'numpy.AxisError'\n",
    "}\n"
   ]
  },
  {
   "cell_type": "code",
   "execution_count": null,
   "metadata": {},
   "outputs": [],
   "source": [
    "test_ids"
   ]
  },
  {
   "cell_type": "code",
   "execution_count": 7,
   "metadata": {},
   "outputs": [],
   "source": [
    "errors = []"
   ]
  },
  {
   "cell_type": "code",
   "execution_count": 8,
   "metadata": {},
   "outputs": [],
   "source": [
    "encoding = 'utf-8'\n",
    "for record, ids in zip(test_records, test_ids):\n",
    "    error_type = record['target']['int64List']['value']\n",
    "    true_error_type = int(error_type[0])\n",
    "    problem_id = ids[0]\n",
    "    submission_id = ids[1]\n",
    "    tmp = {\n",
    "        'problem_id': problem_id,\n",
    "        'submission_id': submission_id,\n",
    "        'true_error_type': true_error_type\n",
    "    }\n",
    "    if true_error_type != 1:\n",
    "        errors.append(tmp)"
   ]
  },
  {
   "cell_type": "code",
   "execution_count": null,
   "metadata": {},
   "outputs": [],
   "source": [
    "import numpy as np\n",
    "np.random.seed(42)\n",
    "safes = []\n",
    "if args.no_error:\n",
    "    num_sample = len(errors)\n",
    "    count = 0\n",
    "    while count < num_sample:\n",
    "        index = np.random.randint(len(errors))\n",
    "        record = test_records[index]\n",
    "        error_type = int(record['target']['int64List']['value'])\n",
    "        if error_type == 1:\n",
    "            safes.append(index)\n",
    "            count += 1"
   ]
  },
  {
   "cell_type": "code",
   "execution_count": 9,
   "metadata": {},
   "outputs": [
    {
     "data": {
      "text/plain": [
       "219091"
      ]
     },
     "execution_count": 9,
     "metadata": {},
     "output_type": "execute_result"
    }
   ],
   "source": [
    "len(errors)"
   ]
  },
  {
   "cell_type": "code",
   "execution_count": null,
   "metadata": {},
   "outputs": [],
   "source": [
    "# save errors to a jsonl\n",
    "import json\n",
    "with open('errors.jsonl', 'w') as outfile:\n",
    "    for error in errors:\n",
    "        json.dump(error, outfile)\n",
    "        outfile.write('\\n')"
   ]
  },
  {
   "cell_type": "code",
   "execution_count": 29,
   "metadata": {},
   "outputs": [
    {
     "data": {
      "text/plain": [
       "1"
      ]
     },
     "execution_count": 29,
     "metadata": {},
     "output_type": "execute_result"
    }
   ],
   "source": [
    "true_error_type"
   ]
  },
  {
   "cell_type": "code",
   "execution_count": null,
   "metadata": {},
   "outputs": [],
   "source": [
    "root_directory = '/home/ubuntu/mnt/agent/amazon-Q/NGDEBirds/NGDEBirdsScienceTransforms/src/birds_transforms/examples/Project_CodeNet'\n",
    "implementation_path = os.path.join(root_directory, 'data', problem_id, 'Python', f'{submission_id}.py')\n",
    "with open(implementation_path, 'r') as f:\n",
    "    implementation = f.read()\n",
    "description_path = os.path.join(root_directory, 'problem_descriptions', f'{problem_id}.html')\n",
    "with open(description_path, 'r') as f:\n",
    "    problem_description = f.read()\n",
    "    info = descriptions.extract_input_information(problem_description)"
   ]
  },
  {
   "cell_type": "code",
   "execution_count": 31,
   "metadata": {},
   "outputs": [
    {
     "name": "stdout",
     "output_type": "stream",
     "text": [
      "Here is my analysis of the given implementation:\n",
      "\n",
      "<Reasoning>\n",
      "The implementation looks correct and should not encounter any runtime errors based on the given input description. Here's why:\n",
      "\n",
      "1. The input is properly read using int(input()) and map(float, input().split()), which matches the specified input format of an integer N followed by N lines of real numbers.\n",
      "\n",
      "2. The math operations like hypot and abs are used correctly and should not cause any domain errors or exceptions.\n",
      "\n",
      "3. The comparisons and if-elif conditions are properly structured and will execute without any errors.\n",
      "\n",
      "4. There are no signs of potential infinite recursion, out of memory issues, or other runtime errors.\n",
      "\n",
      "As long as the input strictly follows the specified format, this implementation should run without any runtime errors.\n",
      "</Reasoning>\n",
      "\n",
      "<Conclusion>1: 'No Error'</Conclusion>\n",
      "predicted error type 1\n",
      "true error type 1\n"
     ]
    }
   ],
   "source": [
    "prompt = TEMPLATE.format(\n",
    "    input=info,\n",
    "    implementation=implementation\n",
    ")\n",
    "response = prompt_anthropic(\n",
    "    system=SYSTEM_TEMPLATE,\n",
    "    prompt=prompt,\n",
    "    model_id=OPUS,\n",
    "    temperature=0.1,\n",
    ")\n",
    "print(response)\n",
    "error_type = extract_tag_list('Conclusion', response)[0].strip().split(':')[0]\n",
    "print('predicted error type', error_type)\n",
    "print('true error type', true_error_type)"
   ]
  },
  {
   "cell_type": "code",
   "execution_count": null,
   "metadata": {},
   "outputs": [],
   "source": []
  }
 ],
 "metadata": {
  "kernelspec": {
   "display_name": "agent",
   "language": "python",
   "name": "python3"
  },
  "language_info": {
   "codemirror_mode": {
    "name": "ipython",
    "version": 3
   },
   "file_extension": ".py",
   "mimetype": "text/x-python",
   "name": "python",
   "nbconvert_exporter": "python",
   "pygments_lexer": "ipython3",
   "version": "3.9.0"
  }
 },
 "nbformat": 4,
 "nbformat_minor": 2
}
